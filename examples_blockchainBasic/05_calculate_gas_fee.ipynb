{
 "cells": [
  {
   "cell_type": "code",
   "execution_count": null,
   "metadata": {
    "vscode": {
     "languageId": "plaintext"
    }
   },
   "outputs": [],
   "source": [
    "def calculate_gas_fee(gas_used , gas_price_gwei):\n",
    "    \"\"\"\n",
    "    가스 비용을 계산함\n",
    "\n",
    "    Args:\n",
    "        gas_used (int): 트랜잭션 실행에 사용된 가스량\n",
    "        gas_price_gwei (float): 가스 가격 (Gwei 단위)\n",
    "\n",
    "    Returns:\n",
    "        float: 총 가스 비용 (ETH 단위)\n",
    "    \"\"\"\n",
    "    # 1 Gwei = 10^-9 ETH\n",
    "    gas_price_gwei = gas_price_gwei * (10 ** -9)\n",
    "    total_fee = gas_used * gas_price_gwei\n",
    "    return total_fee"
   ]
  },
  {
   "cell_type": "code",
   "execution_count": null,
   "metadata": {
    "vscode": {
     "languageId": "plaintext"
    }
   },
   "outputs": [],
   "source": [
    "# 트랜잭션 시뮬레이터 데이터\n",
    "transactions = [\n",
    "    {\"description\": \"Simple ETH Transfer\", \"gas_used\": 21000, \"gas_price_gwei\": 50},\n",
    "    {\"description\": \"Smart Contract Execution\", \"gas_used\": 100000, \"gas_price_gwei\": 100},\n",
    "    {\"description\": \"Complex DApp Transaction\", \"gas_used\": 200000, \"gas_price_gwei\": 200},\n",
    "]"
   ]
  },
  {
   "cell_type": "code",
   "execution_count": null,
   "metadata": {
    "vscode": {
     "languageId": "plaintext"
    }
   },
   "outputs": [],
   "source": [
    "# 트랜잭션별 가스 비용 계산\n",
    "print(\"Gas Fee Calculation for Transaction:\")\n",
    "\n",
    "for tx in transactions:\n",
    "    fee = calculate_gas_fee(tx[\"gas_used\"] , tx[\"gas_price_gwei\"])\n",
    "    print(f\"- {tx['description']}:\")\n",
    "    print(f\"    Gas Used: {tx['gas_used']}\")\n",
    "    print(f\"    Gas Price: {tx['gas_price_gwei']} Gwei\")\n",
    "    print(f\"    Total Fee: {fee:.8f} ETH\\n\")"
   ]
  }
 ],
 "metadata": {
  "language_info": {
   "name": "python"
  }
 },
 "nbformat": 4,
 "nbformat_minor": 2
}
