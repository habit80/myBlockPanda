{
 "cells": [
  {
   "cell_type": "code",
   "execution_count": null,
   "metadata": {
    "vscode": {
     "languageId": "plaintext"
    }
   },
   "outputs": [],
   "source": [
    "# Merkle Patricia Trie 구조 간단 구현\n",
    "\n",
    "import hashlib"
   ]
  },
  {
   "cell_type": "code",
   "execution_count": null,
   "metadata": {
    "vscode": {
     "languageId": "plaintext"
    }
   },
   "outputs": [],
   "source": [
    "class MerklePatriciaTrieNode:\n",
    "    def __init__(self, value=None):\n",
    "        \"\"\"\n",
    "        트리 노드를 초기화합니다.\n",
    "        - children: 하위 노드를 저장하는 딕셔너리 (0-15 범위).\n",
    "        - value: 노드에 저장된 값 (리프 노드에서 사용).\n",
    "        \"\"\"\n",
    "        self.children = {}  # 다음 경로를 저장\n",
    "        self.value = value  # 리프 노드의 값"
   ]
  },
  {
   "cell_type": "code",
   "execution_count": null,
   "metadata": {
    "vscode": {
     "languageId": "plaintext"
    }
   },
   "outputs": [],
   "source": [
    "class MerklePatriciaTrie:\n",
    "    def __init__(self):\n",
    "        \"\"\"\n",
    "        MPT 트리의 루트 노드를 초기화합니다.\n",
    "        \"\"\"\n",
    "        self.root = MerklePatriciaTrieNode()\n",
    "\n",
    "    def insert(self, key, value):\n",
    "        \"\"\"\n",
    "        MPT에 키-값 쌍을 삽입합니다.\n",
    "        Args:\n",
    "            key (str): 저장할 키 (16진수 문자열).\n",
    "            value (str): 저장할 값.\n",
    "        \"\"\"\n",
    "        current = self.root\n",
    "        for char in key:\n",
    "            if char not in current.children:\n",
    "                current.children[char] = MerklePatriciaTrieNode()\n",
    "            current = current.children[char]\n",
    "        current.value = value\n",
    "        print(f\"Inserted: {key} -> {value}\")\n",
    "\n",
    "    def search(self, key):\n",
    "        \"\"\"\n",
    "        MPT에서 키에 해당하는 값을 검색합니다.\n",
    "        Args:\n",
    "            key (str): 검색할 키 (16진수 문자열).\n",
    "        Returns:\n",
    "            str or None: 키에 해당하는 값 또는 None.\n",
    "        \"\"\"\n",
    "        current = self.root\n",
    "        for char in key:\n",
    "            if char not in current.children:\n",
    "                return None\n",
    "            current = current.children[char]\n",
    "        return current.value\n",
    "\n",
    "    def compute_hash(self, node=None):\n",
    "        \"\"\"\n",
    "        MPT의 루트 해시를 계산합니다.\n",
    "        Args:\n",
    "            node (MerklePatriciaTrieNode): 해시 계산을 시작할 노드 (기본값은 루트).\n",
    "        Returns:\n",
    "            str: 노드의 해시 값.\n",
    "        \"\"\"\n",
    "        if node is None:\n",
    "            node = self.root\n",
    "\n",
    "        if not node.children:  # 리프 노드\n",
    "            return hashlib.sha256(node.value.encode()).hexdigest() if node.value else None\n",
    "\n",
    "        child_hashes = \"\"\n",
    "        for key, child in sorted(node.children.items()):\n",
    "            child_hashes += key + self.compute_hash(child)\n",
    "\n",
    "        return hashlib.sha256(child_hashes.encode()).hexdigest()"
   ]
  },
  {
   "cell_type": "code",
   "execution_count": null,
   "metadata": {
    "vscode": {
     "languageId": "plaintext"
    }
   },
   "outputs": [],
   "source": [
    "# MPT 예제 실행\n",
    "\n",
    "# 1. MPT 초기화\n",
    "mpt = MerklePatriciaTrie()"
   ]
  },
  {
   "cell_type": "code",
   "execution_count": null,
   "metadata": {
    "vscode": {
     "languageId": "plaintext"
    }
   },
   "outputs": [],
   "source": [
    "# 2. 키-값 쌍 삽입\n",
    "mpt.insert(\"a1\", \"Alice\")\n",
    "mpt.insert(\"a2\", \"Bob\")\n",
    "mpt.insert(\"b3\", \"Charlie\")"
   ]
  },
  {
   "cell_type": "code",
   "execution_count": null,
   "metadata": {
    "vscode": {
     "languageId": "plaintext"
    }
   },
   "outputs": [],
   "source": [
    "# 3. 값 검색\n",
    "print(\"\\nSearching for keys:\")\n",
    "print(f\"a1 -> {mpt.search('a1')}\")\n",
    "print(f\"a2 -> {mpt.search('a2')}\")\n",
    "print(f\"b3 -> {mpt.search('b3')}\")\n",
    "print(f\"c4 -> {mpt.search('c4')}\")  # 없는 키 검색"
   ]
  },
  {
   "cell_type": "code",
   "execution_count": null,
   "metadata": {
    "vscode": {
     "languageId": "plaintext"
    }
   },
   "outputs": [],
   "source": [
    "# 4. 루트 해시 계산\n",
    "print(\"\\nMerkle Patricia Trie Root Hash:\")\n",
    "print(mpt.compute_hash())"
   ]
  }
 ],
 "metadata": {
  "language_info": {
   "name": "python"
  }
 },
 "nbformat": 4,
 "nbformat_minor": 2
}
