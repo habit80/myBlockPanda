{
 "cells": [
  {
   "cell_type": "code",
   "execution_count": null,
   "metadata": {
    "vscode": {
     "languageId": "plaintext"
    }
   },
   "outputs": [],
   "source": [
    "import hashlib"
   ]
  },
  {
   "cell_type": "code",
   "execution_count": null,
   "metadata": {
    "vscode": {
     "languageId": "plaintext"
    }
   },
   "outputs": [],
   "source": [
    "class Block:\n",
    "    def __init__(self, index, previous_hash, data, timestamp):\n",
    "        \"\"\"\n",
    "        블록 초기화\n",
    "        Args:\n",
    "            index (int): 블록 번호.\n",
    "            previous_hash (str): 이전 블록의 해시값.\n",
    "            data (str): 블록에 저장된 데이터.\n",
    "            timestamp (str): 블록 생성 시간.\n",
    "        \"\"\"\n",
    "        self.index = index\n",
    "        self.previous_hash = previous_hash\n",
    "        self.data = data\n",
    "        self.timestamp = timestamp\n",
    "        self.hash = self.compute_hash()\n",
    "\n",
    "    def compute_hash(self):\n",
    "        \"\"\"\n",
    "        현재 블록의 해시값을 계산.\n",
    "        Returns:\n",
    "            str: 계산된 해시값.\n",
    "        \"\"\"\n",
    "        block_string = f\"{self.index}{self.previous_hash}{self.data}{self.timestamp}\"\n",
    "        return hashlib.sha256(block_string.encode()).hexdigest()"
   ]
  },
  {
   "cell_type": "code",
   "execution_count": null,
   "metadata": {
    "vscode": {
     "languageId": "plaintext"
    }
   },
   "outputs": [],
   "source": [
    "class Blockchain:\n",
    "    def __init__(self):\n",
    "        \"\"\"\n",
    "        블록체인 초기화\n",
    "        \"\"\"\n",
    "        self.chain = []\n",
    "        self.create_genesis_block()\n",
    "\n",
    "    def create_genesis_block(self):\n",
    "        \"\"\"\n",
    "        제네시스 블록 생성\n",
    "        \"\"\"\n",
    "        genesis_block = Block(0, \"0\", \"Genesis Block\", \"2024-12-06T00:00:00\")\n",
    "        self.chain.append(genesis_block)\n",
    "\n",
    "    def add_block(self, data, timestamp):\n",
    "        \"\"\"\n",
    "        새로운 블록을 추가.\n",
    "        Args:\n",
    "            data (str): 추가할 블록의 데이터.\n",
    "            timestamp (str): 블록 생성 시간.\n",
    "        \"\"\"\n",
    "        previous_block = self.chain[-1]\n",
    "        new_block = Block(len(self.chain), previous_block.hash, data, timestamp)\n",
    "        self.chain.append(new_block)\n",
    "\n",
    "    def is_chain_valid(self):\n",
    "        \"\"\"\n",
    "        블록체인의 무결성을 검증.\n",
    "        Returns:\n",
    "            bool: 체인이 유효하면 True, 아니면 False.\n",
    "        \"\"\"\n",
    "        for i in range(1, len(self.chain)):\n",
    "            current_block = self.chain[i]\n",
    "            previous_block = self.chain[i - 1]\n",
    "\n",
    "            # 현재 블록의 해시값 검증\n",
    "            if current_block.hash != current_block.compute_hash():\n",
    "                print(f\"Block {current_block.index} has invalid hash.\")\n",
    "                return False\n",
    "\n",
    "            # 이전 블록의 해시값과 연결 상태 검증\n",
    "            if current_block.previous_hash != previous_block.hash:\n",
    "                print(f\"Block {current_block.index} has invalid previous hash.\")\n",
    "                return False\n",
    "\n",
    "        return True"
   ]
  },
  {
   "cell_type": "code",
   "execution_count": null,
   "metadata": {
    "vscode": {
     "languageId": "plaintext"
    }
   },
   "outputs": [],
   "source": [
    "# 블록체인 시뮬레이션\n",
    "\n",
    "# 1. 블록체인 초기화\n",
    "blockchain = Blockchain()"
   ]
  },
  {
   "cell_type": "code",
   "execution_count": null,
   "metadata": {
    "vscode": {
     "languageId": "plaintext"
    }
   },
   "outputs": [],
   "source": [
    "# 2. 새로운 블록 추가\n",
    "blockchain.add_block(\"Alice sends 10 BTC to Bob\", \"2024-12-06T12:00:00\")\n",
    "blockchain.add_block(\"Bob sends 5 BTC to Charlie\", \"2024-12-06T13:00:00\")\n",
    "blockchain.add_block(\"Charlie sends 1 BTC to Alice\", \"2024-12-06T14:00:00\")"
   ]
  },
  {
   "cell_type": "code",
   "execution_count": null,
   "metadata": {
    "vscode": {
     "languageId": "plaintext"
    }
   },
   "outputs": [],
   "source": [
    "# 3. 블록체인 검증\n",
    "print(\"\\nBlockchain Validation:\")\n",
    "is_valid = blockchain.is_chain_valid()\n",
    "print(f\"Is blockchain valid? {is_valid}\")"
   ]
  },
  {
   "cell_type": "code",
   "execution_count": null,
   "metadata": {
    "vscode": {
     "languageId": "plaintext"
    }
   },
   "outputs": [],
   "source": [
    "# 4. 블록 데이터 출력\n",
    "print(\"\\nBlockchain Data:\")\n",
    "for block in blockchain.chain:\n",
    "    print(f\"Block {block.index}:\")\n",
    "    print(f\"  Previous Hash: {block.previous_hash}\")\n",
    "    print(f\"  Data: {block.data}\")\n",
    "    print(f\"  Timestamp: {block.timestamp}\")\n",
    "    print(f\"  Hash: {block.hash}\\n\")"
   ]
  },
  {
   "cell_type": "code",
   "execution_count": null,
   "metadata": {
    "vscode": {
     "languageId": "plaintext"
    }
   },
   "outputs": [],
   "source": [
    "# 5. 데이터 변조 테스트\n",
    "print(\"\\nTampering with blockchain data...\")\n",
    "blockchain.chain[1].data = \"Alice sends 100 BTC to Bob\"\n",
    "is_valid = blockchain.is_chain_valid()\n",
    "print(f\"Is blockchain valid after tampering? {is_valid}\")"
   ]
  }
 ],
 "metadata": {
  "language_info": {
   "name": "python"
  }
 },
 "nbformat": 4,
 "nbformat_minor": 2
}
