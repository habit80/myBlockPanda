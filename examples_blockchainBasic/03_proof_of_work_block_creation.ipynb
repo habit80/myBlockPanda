{
 "cells": [
  {
   "cell_type": "code",
   "execution_count": null,
   "metadata": {
    "vscode": {
     "languageId": "plaintext"
    }
   },
   "outputs": [],
   "source": [
    "import hashlib"
   ]
  },
  {
   "cell_type": "code",
   "execution_count": null,
   "metadata": {
    "vscode": {
     "languageId": "plaintext"
    }
   },
   "outputs": [],
   "source": [
    "def proof_of_work(previous_hash , data , difficulty):\n",
    "    \"\"\"\n",
    "    Simulates the Proof of Work algorithm.\n",
    "\n",
    "    Args:\n",
    "    - previous_hash (str) : The hash of the previous block\n",
    "    - data (str) : The data to include in the block\n",
    "    - difficulty (int) : The number of leading zeros required in the hash\n",
    "\n",
    "    Returns:\n",
    "    - (int , str) : The nonce that solves the puzzle and the resulting hash\n",
    "    \"\"\"\n",
    "    nonce = 0\n",
    "    prefix = \"0\" * difficulty   # Define the target prefix (e.g., \"0000\" fo difficulty 4)\n",
    "    while True:\n",
    "        # Combine block contents\n",
    "        block_content = f\"{previous_hash}{data}{nonce}\".encode()\n",
    "\n",
    "        # Compute the hash\n",
    "        block_hash = hashlib.sha256(block_content).hexdigest()\n",
    "\n",
    "        # Check if the hash meets the difficulty requirement\n",
    "        if block_hash.startswith(prefix):\n",
    "            return nonce, block_hash\n",
    "        nonce+=1\n"
   ]
  },
  {
   "cell_type": "code",
   "execution_count": null,
   "metadata": {
    "vscode": {
     "languageId": "plaintext"
    }
   },
   "outputs": [],
   "source": [
    "# Example Usage\n",
    "\n",
    "# Inputs\n",
    "previous_hash = \"00000000000000000000000000000000\"  # A sample hash for previous hash\n",
    "data = \"Alice sends 10 BTC to Bob\"\n",
    "difficulty = 4\n",
    "\n",
    "print(\"Mining Block\")"
   ]
  },
  {
   "cell_type": "code",
   "execution_count": null,
   "metadata": {
    "vscode": {
     "languageId": "plaintext"
    }
   },
   "outputs": [],
   "source": [
    "# Perform Proof of Work\n",
    "nonce, block_hash = proof_of_work(previous_hash , data , difficulty)"
   ]
  },
  {
   "cell_type": "code",
   "execution_count": null,
   "metadata": {
    "vscode": {
     "languageId": "plaintext"
    }
   },
   "outputs": [],
   "source": [
    "# Output the results\n",
    "print(f\"Bolcok mined successfully!\")\n",
    "print(f\"Nonce: {nonce}\")\n",
    "print(f\"Block Hash: {block_hash}\")"
   ]
  }
 ],
 "metadata": {
  "language_info": {
   "name": "python"
  }
 },
 "nbformat": 4,
 "nbformat_minor": 2
}
