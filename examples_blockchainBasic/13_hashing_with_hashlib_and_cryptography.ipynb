{
 "cells": [
  {
   "cell_type": "code",
   "execution_count": null,
   "metadata": {
    "vscode": {
     "languageId": "plaintext"
    }
   },
   "outputs": [],
   "source": [
    "# hashlib와 cryptography를 활용한 해싱 예제\n",
    "\n",
    "import hashlib\n",
    "from cryptography.hazmat.primitives import hashes\n",
    "from cryptography.hazmat.backends import default_backend"
   ]
  },
  {
   "cell_type": "code",
   "execution_count": null,
   "metadata": {
    "vscode": {
     "languageId": "plaintext"
    }
   },
   "outputs": [],
   "source": [
    "# 1. hashlib를 사용한 SHA-256 해싱\n",
    "def hashlib_sha256(data):\n",
    "    \"\"\"\n",
    "    hashlib를 사용한 SHA-256 해싱.\n",
    "    Args:\n",
    "        data (str): 해싱할 데이터.\n",
    "    Returns:\n",
    "        str: 해시 결과 (16진수).\n",
    "    \"\"\"\n",
    "    hash_object = hashlib.sha256(data.encode())\n",
    "    return hash_object.hexdigest()"
   ]
  },
  {
   "cell_type": "code",
   "execution_count": null,
   "metadata": {
    "vscode": {
     "languageId": "plaintext"
    }
   },
   "outputs": [],
   "source": [
    "# 2. cryptography를 사용한 SHA-256 해싱\n",
    "def cryptography_sha256(data):\n",
    "    \"\"\"\n",
    "    cryptography를 사용한 SHA-256 해싱.\n",
    "    Args:\n",
    "        data (str): 해싱할 데이터.\n",
    "    Returns:\n",
    "        str: 해시 결과 (16진수).\n",
    "    \"\"\"\n",
    "    digest = hashes.Hash(hashes.SHA256(), backend=default_backend())\n",
    "    digest.update(data.encode())\n",
    "    return digest.finalize().hex()"
   ]
  },
  {
   "cell_type": "code",
   "execution_count": null,
   "metadata": {
    "vscode": {
     "languageId": "plaintext"
    }
   },
   "outputs": [],
   "source": [
    "\n",
    "# 3. hashlib를 사용한 MD5 해싱 (주의: 보안적으로 권장되지 않음)\n",
    "def hashlib_md5(data):\n",
    "    \"\"\"\n",
    "    hashlib를 사용한 MD5 해싱.\n",
    "    Args:\n",
    "        data (str): 해싱할 데이터.\n",
    "    Returns:\n",
    "        str: 해시 결과 (16진수).\n",
    "    \"\"\"\n",
    "    hash_object = hashlib.md5(data.encode())\n",
    "    return hash_object.hexdigest()"
   ]
  },
  {
   "cell_type": "code",
   "execution_count": null,
   "metadata": {
    "vscode": {
     "languageId": "plaintext"
    }
   },
   "outputs": [],
   "source": [
    "# 4. 비교 함수: 두 해시 값이 같은지 확인\n",
    "def compare_hashes(hash1, hash2):\n",
    "    \"\"\"\n",
    "    두 해시 값을 비교.\n",
    "    Args:\n",
    "        hash1 (str): 첫 번째 해시 값.\n",
    "        hash2 (str): 두 번째 해시 값.\n",
    "    Returns:\n",
    "        bool: 해시 값이 같으면 True, 아니면 False.\n",
    "    \"\"\"\n",
    "    return hash1 == hash2"
   ]
  },
  {
   "cell_type": "code",
   "execution_count": null,
   "metadata": {
    "vscode": {
     "languageId": "plaintext"
    }
   },
   "outputs": [],
   "source": [
    "# 실행 예제\n",
    "if __name__ == \"__main__\":\n",
    "    data = \"Hello, Blockchain!\"\n",
    "\n",
    "    # hashlib로 SHA-256 해싱\n",
    "    hashlib_sha256_result = hashlib_sha256(data)\n",
    "    print(\"Hashlib SHA-256:\", hashlib_sha256_result)\n",
    "\n",
    "    # cryptography로 SHA-256 해싱\n",
    "    cryptography_sha256_result = cryptography_sha256(data)\n",
    "    print(\"Cryptography SHA-256:\", cryptography_sha256_result)\n",
    "\n",
    "    # hashlib로 MD5 해싱\n",
    "    hashlib_md5_result = hashlib_md5(data)\n",
    "    print(\"Hashlib MD5:\", hashlib_md5_result)\n",
    "\n",
    "    # 해시 값 비교\n",
    "    is_equal = compare_hashes(hashlib_sha256_result, cryptography_sha256_result)\n",
    "    print(\"\\nAre the two SHA-256 hashes equal?\", is_equal)"
   ]
  }
 ],
 "metadata": {
  "language_info": {
   "name": "python"
  }
 },
 "nbformat": 4,
 "nbformat_minor": 2
}
