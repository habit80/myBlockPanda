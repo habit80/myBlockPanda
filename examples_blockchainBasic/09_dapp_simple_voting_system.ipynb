{
 "cells": [
  {
   "cell_type": "code",
   "execution_count": null,
   "metadata": {
    "vscode": {
     "languageId": "plaintext"
    }
   },
   "outputs": [],
   "source": [
    "class VotingContract:\n",
    "    def __init__(self):\n",
    "        \"\"\"\n",
    "        투표 컨트랙트 초기화\n",
    "        - candidates: 후보자 이름과 투표 수를 저장하는 딕셔너리.\n",
    "        - voters: 투표한 사용자를 기록하여 중복 투표를 방지.\n",
    "        \"\"\"\n",
    "        self.candidates = {}\n",
    "        self.voters = set()\n",
    "\n",
    "    def register_candidate(self, candidate_name):\n",
    "        \"\"\"\n",
    "        새로운 후보자를 등록합니다.\n",
    "        Args:\n",
    "            candidate_name (str): 후보자 이름.\n",
    "        \"\"\"\n",
    "        if candidate_name in self.candidates:\n",
    "            print(f\"Candidate '{candidate_name}' is already registered.\")\n",
    "        else:\n",
    "            self.candidates[candidate_name] = 0\n",
    "            print(f\"Candidate '{candidate_name}' registered successfully.\")\n",
    "\n",
    "    def vote(self, voter_id, candidate_name):\n",
    "        \"\"\"\n",
    "        특정 후보자에게 투표합니다.\n",
    "        Args:\n",
    "            voter_id (str): 투표자 ID.\n",
    "            candidate_name (str): 투표할 후보자 이름.\n",
    "        \"\"\"\n",
    "        if voter_id in self.voters:\n",
    "            print(f\"Voter '{voter_id}' has already voted.\")\n",
    "            return\n",
    "\n",
    "        if candidate_name not in self.candidates:\n",
    "            print(f\"Candidate '{candidate_name}' does not exist.\")\n",
    "            return\n",
    "\n",
    "        # 투표 처리\n",
    "        self.candidates[candidate_name] += 1\n",
    "        self.voters.add(voter_id)\n",
    "        print(f\"Voter '{voter_id}' voted for '{candidate_name}'.\")\n",
    "\n",
    "    def get_results(self):\n",
    "        \"\"\"\n",
    "        후보자별 투표 결과를 반환합니다.\n",
    "        Returns:\n",
    "            dict: 후보자 이름과 투표 수를 포함하는 딕셔너리.\n",
    "        \"\"\"\n",
    "        return self.candidates\n",
    "\n",
    "    def get_winner(self):\n",
    "        \"\"\"\n",
    "        가장 많은 투표를 받은 후보자를 반환합니다.\n",
    "        Returns:\n",
    "            str: 가장 많은 투표를 받은 후보자 이름.\n",
    "        \"\"\"\n",
    "        if not self.candidates:\n",
    "            return \"No candidates registered.\"\n",
    "        winner = max(self.candidates, key=self.candidates.get)\n",
    "        return f\"Winner: {winner} with {self.candidates[winner]} votes.\""
   ]
  },
  {
   "cell_type": "code",
   "execution_count": null,
   "metadata": {
    "vscode": {
     "languageId": "plaintext"
    }
   },
   "outputs": [],
   "source": [
    "# DApp 실행 예제\n",
    "\n",
    "# 1. 컨트랙트 초기화\n",
    "voting_contract = VotingContract()"
   ]
  },
  {
   "cell_type": "code",
   "execution_count": null,
   "metadata": {
    "vscode": {
     "languageId": "plaintext"
    }
   },
   "outputs": [],
   "source": [
    "# 2. 후보자 등록\n",
    "voting_contract.register_candidate(\"Alice\")\n",
    "voting_contract.register_candidate(\"Bob\")\n",
    "voting_contract.register_candidate(\"Charlie\")"
   ]
  },
  {
   "cell_type": "code",
   "execution_count": null,
   "metadata": {
    "vscode": {
     "languageId": "plaintext"
    }
   },
   "outputs": [],
   "source": [
    "# 3. 투표\n",
    "voting_contract.vote(\"voter1\", \"Alice\")\n",
    "voting_contract.vote(\"voter2\", \"Alice\")\n",
    "voting_contract.vote(\"voter3\", \"Bob\")\n",
    "voting_contract.vote(\"voter1\", \"Charlie\")  # 중복 투표 테스트\n",
    "voting_contract.vote(\"voter4\", \"Charlie\")\n",
    "voting_contract.vote(\"voter5\", \"Charlie\")"
   ]
  },
  {
   "cell_type": "code",
   "execution_count": null,
   "metadata": {
    "vscode": {
     "languageId": "plaintext"
    }
   },
   "outputs": [],
   "source": [
    "# 4. 투표 결과 확인\n",
    "print(\"\\nVoting Results:\")\n",
    "results = voting_contract.get_results()\n",
    "for candidate, votes in results.items():\n",
    "    print(f\"{candidate}: {votes} votes\")"
   ]
  },
  {
   "cell_type": "code",
   "execution_count": null,
   "metadata": {
    "vscode": {
     "languageId": "plaintext"
    }
   },
   "outputs": [],
   "source": [
    "# 5. 승자 확인\n",
    "print(\"\\n\" + voting_contract.get_winner())"
   ]
  }
 ],
 "metadata": {
  "language_info": {
   "name": "python"
  }
 },
 "nbformat": 4,
 "nbformat_minor": 2
}
