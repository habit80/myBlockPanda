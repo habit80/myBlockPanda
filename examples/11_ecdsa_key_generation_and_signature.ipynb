{
 "cells": [
  {
   "cell_type": "code",
   "execution_count": null,
   "metadata": {
    "vscode": {
     "languageId": "plaintext"
    }
   },
   "outputs": [],
   "source": [
    "# ECDSA 키 생성, 서명 및 검증\n",
    "\n",
    "from ecdsa import SigningKey, VerifyingKey, NIST256p"
   ]
  },
  {
   "cell_type": "code",
   "execution_count": null,
   "metadata": {
    "vscode": {
     "languageId": "plaintext"
    }
   },
   "outputs": [],
   "source": [
    "# 1. 키 생성\n",
    "def generate_keys():\n",
    "    \"\"\"\n",
    "    ECDSA 키 쌍을 생성합니다.\n",
    "    Returns:\n",
    "        (SigningKey, VerifyingKey): 개인 키와 공개 키.\n",
    "    \"\"\"\n",
    "    private_key = SigningKey.generate(curve=NIST256p)\n",
    "    public_key = private_key.verifying_key\n",
    "    return private_key, public_key"
   ]
  },
  {
   "cell_type": "code",
   "execution_count": null,
   "metadata": {
    "vscode": {
     "languageId": "plaintext"
    }
   },
   "outputs": [],
   "source": [
    "# 2. 메시지 서명\n",
    "def sign_message(private_key, message):\n",
    "    \"\"\"\n",
    "    메시지를 서명합니다.\n",
    "    Args:\n",
    "        private_key (SigningKey): 개인 키.\n",
    "        message (str): 서명할 메시지.\n",
    "    Returns:\n",
    "        bytes: 생성된 서명.\n",
    "    \"\"\"\n",
    "    message_bytes = message.encode()\n",
    "    signature = private_key.sign(message_bytes)\n",
    "    return signature"
   ]
  },
  {
   "cell_type": "code",
   "execution_count": null,
   "metadata": {
    "vscode": {
     "languageId": "plaintext"
    }
   },
   "outputs": [],
   "source": [
    "# 3. 서명 검증\n",
    "def verify_signature(public_key, message, signature):\n",
    "    \"\"\"\n",
    "    서명을 검증합니다.\n",
    "    Args:\n",
    "        public_key (VerifyingKey): 공개 키.\n",
    "        message (str): 원본 메시지.\n",
    "        signature (bytes): 검증할 서명.\n",
    "    Returns:\n",
    "        bool: 서명이 유효하면 True, 그렇지 않으면 False.\n",
    "    \"\"\"\n",
    "    message_bytes = message.encode()\n",
    "    try:\n",
    "        return public_key.verify(signature, message_bytes)\n",
    "    except:\n",
    "        return False"
   ]
  },
  {
   "cell_type": "code",
   "execution_count": null,
   "metadata": {
    "vscode": {
     "languageId": "plaintext"
    }
   },
   "outputs": [],
   "source": [
    "# 실행 예제\n",
    "if __name__ == \"__main__\":\n",
    "    # 1. 키 생성\n",
    "    private_key, public_key = generate_keys()\n",
    "    print(\"Private Key:\", private_key.to_string().hex())\n",
    "    print(\"Public Key:\", public_key.to_string().hex())\n",
    "\n",
    "    # 2. 메시지 서명\n",
    "    message = \"Hello, Blockchain!\"\n",
    "    signature = sign_message(private_key, message)\n",
    "    print(\"\\nMessage:\", message)\n",
    "    print(\"Signature:\", signature.hex())\n",
    "\n",
    "    # 3. 서명 검증\n",
    "    is_valid = verify_signature(public_key, message, signature)\n",
    "    print(\"\\nIs the signature valid?\", is_valid)\n",
    "\n",
    "    # 4. 잘못된 서명 검증 테스트\n",
    "    fake_message = \"Hello, Fake Blockchain!\"\n",
    "    is_valid_fake = verify_signature(public_key, fake_message, signature)\n",
    "    print(\"\\nIs the signature valid for a fake message?\", is_valid_fake)"
   ]
  }
 ],
 "metadata": {
  "language_info": {
   "name": "python"
  }
 },
 "nbformat": 4,
 "nbformat_minor": 2
}
