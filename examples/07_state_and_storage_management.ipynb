{
 "cells": [
  {
   "cell_type": "code",
   "execution_count": null,
   "metadata": {
    "vscode": {
     "languageId": "plaintext"
    }
   },
   "outputs": [],
   "source": [
    "# 상태(State)와 스토리지(Storage) 관리 예제\n",
    "\n",
    "class EthereumState:\n",
    "    def __init__(self):\n",
    "        \"\"\"\n",
    "        이더리움 글로벌 상태를 시뮬레이션합니다.\n",
    "        - accounts: 각 계정의 상태를 저장 (잔액, Nonce 등).\n",
    "        - storage: 스마트 컨트랙트 데이터 저장.\n",
    "        \"\"\"\n",
    "        self.accounts = {}  # 계정 상태 저장\n",
    "        self.storage = {}   # 스마트 컨트랙트 스토리지 저장\n",
    "\n",
    "    def create_account(self, address):\n",
    "        \"\"\"\n",
    "        새로운 계정을 생성합니다.\n",
    "        Args:\n",
    "            address (str): 계정 주소.\n",
    "        \"\"\"\n",
    "        if address in self.accounts:\n",
    "            print(f\"Account {address} already exists.\")\n",
    "        else:\n",
    "            self.accounts[address] = {\"balance\": 0, \"nonce\": 0}\n",
    "            print(f\"Created account: {address}\")\n",
    "\n",
    "    def update_balance(self, address, amount):\n",
    "        \"\"\"\n",
    "        계정 잔액을 업데이트합니다.\n",
    "        Args:\n",
    "            address (str): 계정 주소.\n",
    "            amount (int): 업데이트할 잔액 금액.\n",
    "        \"\"\"\n",
    "        if address not in self.accounts:\n",
    "            print(f\"Account {address} does not exist.\")\n",
    "            return\n",
    "\n",
    "        self.accounts[address][\"balance\"] += amount\n",
    "        print(f\"Updated balance for {address}: {self.accounts[address]['balance']} ETH\")\n",
    "\n",
    "    def execute_contract(self, contract_address, key, value):\n",
    "        \"\"\"\n",
    "        스마트 컨트랙트 스토리지를 업데이트합니다.\n",
    "        Args:\n",
    "            contract_address (str): 스마트 컨트랙트 주소.\n",
    "            key (str): 저장할 키.\n",
    "            value (str): 저장할 값.\n",
    "        \"\"\"\n",
    "        if contract_address not in self.storage:\n",
    "            self.storage[contract_address] = {}\n",
    "            print(f\"Created storage for contract: {contract_address}\")\n",
    "\n",
    "        self.storage[contract_address][key] = value\n",
    "        print(f\"Updated storage for {contract_address}: {key} = {value}\")\n",
    "\n",
    "    def get_account_state(self, address):\n",
    "        \"\"\"\n",
    "        계정 상태를 반환합니다.\n",
    "        Args:\n",
    "            address (str): 계정 주소.\n",
    "        Returns:\n",
    "            dict: 계정 상태 (잔액, Nonce 등).\n",
    "        \"\"\"\n",
    "        return self.accounts.get(address, \"Account does not exist.\")\n",
    "\n",
    "    def get_contract_storage(self, contract_address):\n",
    "        \"\"\"\n",
    "        스마트 컨트랙트 스토리지를 반환합니다.\n",
    "        Args:\n",
    "            contract_address (str): 스마트 컨트랙트 주소.\n",
    "        Returns:\n",
    "            dict: 컨트랙트 스토리지 데이터.\n",
    "        \"\"\"\n",
    "        return self.storage.get(contract_address, \"Storage does not exist.\")\n"
   ]
  },
  {
   "cell_type": "code",
   "execution_count": null,
   "metadata": {
    "vscode": {
     "languageId": "plaintext"
    }
   },
   "outputs": [],
   "source": [
    "# 글로벌 상태 시뮬레이션\n",
    "\n",
    "# 1. 글로벌 상태 초기화\n",
    "ethereum_state = EthereumState()"
   ]
  },
  {
   "cell_type": "code",
   "execution_count": null,
   "metadata": {
    "vscode": {
     "languageId": "plaintext"
    }
   },
   "outputs": [],
   "source": [
    "# 2. 계정 생성 및 잔액 업데이트\n",
    "ethereum_state.create_account(\"0xAlice\")\n",
    "ethereum_state.create_account(\"0xBob\")\n",
    "ethereum_state.update_balance(\"0xAlice\", 100)\n",
    "ethereum_state.update_balance(\"0xBob\", 50)"
   ]
  },
  {
   "cell_type": "code",
   "execution_count": null,
   "metadata": {
    "vscode": {
     "languageId": "plaintext"
    }
   },
   "outputs": [],
   "source": [
    "# 3. 스마트 컨트랙트 실행 및 스토리지 업데이트\n",
    "ethereum_state.execute_contract(\"0xContract1\", \"key1\", \"value1\")\n",
    "ethereum_state.execute_contract(\"0xContract1\", \"key2\", \"value2\")"
   ]
  },
  {
   "cell_type": "code",
   "execution_count": null,
   "metadata": {
    "vscode": {
     "languageId": "plaintext"
    }
   },
   "outputs": [],
   "source": [
    "# 4. 상태 조회\n",
    "print(\"\\nAccount States:\")\n",
    "print(ethereum_state.get_account_state(\"0xAlice\"))\n",
    "print(ethereum_state.get_account_state(\"0xBob\"))\n",
    "\n",
    "print(\"\\nContract Storage:\")\n",
    "print(ethereum_state.get_contract_storage(\"0xContract1\"))"
   ]
  }
 ],
 "metadata": {
  "language_info": {
   "name": "python"
  }
 },
 "nbformat": 4,
 "nbformat_minor": 2
}
