{
 "cells": [
  {
   "cell_type": "code",
   "execution_count": null,
   "metadata": {
    "vscode": {
     "languageId": "plaintext"
    }
   },
   "outputs": [],
   "source": [
    "pip install cryptography"
   ]
  },
  {
   "cell_type": "code",
   "execution_count": null,
   "metadata": {
    "vscode": {
     "languageId": "plaintext"
    }
   },
   "outputs": [],
   "source": [
    "from cryptography.hazmat.primitives.asymmetric import ec\n",
    "from cryptography.hazmat.primitives import hashes\n",
    "from cryptography.hazmat.primitives.asymmetric.utils import encode_dss_signature, decode_dss_signature\n",
    "import hashlib"
   ]
  },
  {
   "cell_type": "code",
   "execution_count": null,
   "metadata": {
    "vscode": {
     "languageId": "plaintext"
    }
   },
   "outputs": [],
   "source": [
    "# Generate a key pair (private and public key)\n",
    "private_key = ec.generate_private_key(ec.SECP256R1())\n",
    "public_key = private_key.public_key()"
   ]
  },
  {
   "cell_type": "code",
   "execution_count": null,
   "metadata": {
    "vscode": {
     "languageId": "plaintext"
    }
   },
   "outputs": [],
   "source": [
    "# Create a transaction\n",
    "transaction = {\n",
    "    \"sender\" : \"Alice\",\n",
    "    \"receiver\" : \"Bob\",\n",
    "    \"amount\" : 10,\n",
    "    \"timestamp\" : \"2024-12-06T12:00:00Z\"\n",
    "}"
   ]
  },
  {
   "cell_type": "code",
   "execution_count": null,
   "metadata": {
    "vscode": {
     "languageId": "plaintext"
    }
   },
   "outputs": [],
   "source": [
    "# Hash the transaction\n",
    "transaction_data = str(transaction).encode()\n",
    "print(transaction_data)\n",
    "\n",
    "transaction_hash = hashlib.sha256(transaction_data).digest()\n",
    "print(transaction_hash)"
   ]
  },
  {
   "cell_type": "code",
   "execution_count": null,
   "metadata": {
    "vscode": {
     "languageId": "plaintext"
    }
   },
   "outputs": [],
   "source": [
    "# Sign the transaction\n",
    "signature = private_key.sign(transaction_hash , ec.ECDSA(hashes.SHA256()))\n",
    "print(signature)"
   ]
  },
  {
   "cell_type": "code",
   "execution_count": null,
   "metadata": {
    "vscode": {
     "languageId": "plaintext"
    }
   },
   "outputs": [],
   "source": [
    "# Verify the signature\n",
    "try:\n",
    "    public_key.verify(signature , transaction_hash , ec.ECDSA(hashes.SHA256()))\n",
    "    print(\"Transaction is valid\")\n",
    "except Exception as e:\n",
    "    print(\"Invalid transaction:\" , e)"
   ]
  },
  {
   "cell_type": "code",
   "execution_count": null,
   "metadata": {
    "vscode": {
     "languageId": "plaintext"
    }
   },
   "outputs": [],
   "source": [
    "# Create forged Transaction\n",
    "forged_transaction = {\n",
    "    \"sender\" : \"Alice\",\n",
    "    \"receiver\" : \"Charlie\", # Forged receiver\n",
    "    \"amount\" : 10,\n",
    "    \"timestamp\" : \"2024-12-06T12:00:00Z\"\n",
    "}"
   ]
  },
  {
   "cell_type": "code",
   "execution_count": null,
   "metadata": {
    "vscode": {
     "languageId": "plaintext"
    }
   },
   "outputs": [],
   "source": [
    "# Hash the forged transaction\n",
    "forged_transaction_data = str(forged_transaction).encode()\n",
    "forged_transaction_hash = hashlib.sha256(forged_transaction_data).digest()"
   ]
  },
  {
   "cell_type": "code",
   "execution_count": null,
   "metadata": {
    "vscode": {
     "languageId": "plaintext"
    }
   },
   "outputs": [],
   "source": [
    "# Verify the forged transaction\n",
    "print(\"\\nVerifying the forged transaction ... \")\n",
    "try:\n",
    "    public_key.verify(signature, forged_transaction_hash, ec.ECDSA(hashes.SHA256()))\n",
    "    print(\"Transaction is valid\")\n",
    "except Exception as e:\n",
    "    print(\"Invalid transaction:\", e)"
   ]
  }
 ],
 "metadata": {
  "language_info": {
   "name": "python"
  }
 },
 "nbformat": 4,
 "nbformat_minor": 2
}
