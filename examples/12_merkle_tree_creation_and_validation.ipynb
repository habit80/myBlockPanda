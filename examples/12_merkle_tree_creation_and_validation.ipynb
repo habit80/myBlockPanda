{
 "cells": [
  {
   "cell_type": "code",
   "execution_count": null,
   "metadata": {
    "vscode": {
     "languageId": "plaintext"
    }
   },
   "outputs": [],
   "source": [
    "import hashlib"
   ]
  },
  {
   "cell_type": "code",
   "execution_count": null,
   "metadata": {
    "vscode": {
     "languageId": "plaintext"
    }
   },
   "outputs": [],
   "source": [
    "# Merkle Tree Node 클래스\n",
    "class MerkleNode:\n",
    "    def __init__(self, left=None, right=None, value=None):\n",
    "        \"\"\"\n",
    "        Merkle Tree의 노드를 초기화합니다.\n",
    "        Args:\n",
    "            left (MerkleNode): 왼쪽 자식 노드.\n",
    "            right (MerkleNode): 오른쪽 자식 노드.\n",
    "            value (str): 노드의 해시 값.\n",
    "        \"\"\"\n",
    "        self.left = left\n",
    "        self.right = right\n",
    "        self.value = value"
   ]
  },
  {
   "cell_type": "code",
   "execution_count": null,
   "metadata": {
    "vscode": {
     "languageId": "plaintext"
    }
   },
   "outputs": [],
   "source": [
    "# Merkle Tree 클래스\n",
    "class MerkleTree:\n",
    "    def __init__(self, transactions):\n",
    "        \"\"\"\n",
    "        Merkle Tree를 생성합니다.\n",
    "        Args:\n",
    "            transactions (list): 트랜잭션 데이터 리스트.\n",
    "        \"\"\"\n",
    "        self.transactions = transactions\n",
    "        self.root = self._build_tree(transactions)\n",
    "\n",
    "    def _build_tree(self, transactions):\n",
    "        \"\"\"\n",
    "        Merkle Tree를 재귀적으로 빌드합니다.\n",
    "        Args:\n",
    "            transactions (list): 트랜잭션 데이터 리스트.\n",
    "        Returns:\n",
    "            MerkleNode: Merkle Tree의 루트 노드.\n",
    "        \"\"\"\n",
    "        if len(transactions) == 1:\n",
    "            return MerkleNode(value=self._hash(transactions[0]))\n",
    "\n",
    "        # 트랜잭션 리스트가 홀수면 마지막 항목을 복제\n",
    "        if len(transactions) % 2 != 0:\n",
    "            transactions.append(transactions[-1])\n",
    "\n",
    "        # 자식 노드 생성\n",
    "        left_nodes = transactions[:len(transactions) // 2]\n",
    "        right_nodes = transactions[len(transactions) // 2:]\n",
    "\n",
    "        left = self._build_tree(left_nodes)\n",
    "        right = self._build_tree(right_nodes)\n",
    "\n",
    "        # 부모 노드 생성\n",
    "        parent_hash = self._hash(left.value + right.value)\n",
    "        return MerkleNode(left=left, right=right, value=parent_hash)\n",
    "\n",
    "    def _hash(self, data):\n",
    "        \"\"\"\n",
    "        데이터를 해싱합니다.\n",
    "        Args:\n",
    "            data (str): 해싱할 데이터.\n",
    "        Returns:\n",
    "            str: 해시 값.\n",
    "        \"\"\"\n",
    "        return hashlib.sha256(data.encode()).hexdigest()\n",
    "\n",
    "    def get_root(self):\n",
    "        \"\"\"\n",
    "        Merkle Root를 반환합니다.\n",
    "        Returns:\n",
    "            str: Merkle Root 값.\n",
    "        \"\"\"\n",
    "        return self.root.value\n",
    "\n",
    "    def validate_transaction(self, transaction):\n",
    "        \"\"\"\n",
    "        특정 트랜잭션이 Merkle Tree에 포함되어 있는지 검증합니다.\n",
    "        Args:\n",
    "            transaction (str): 검증할 트랜잭션.\n",
    "        Returns:\n",
    "            bool: 트랜잭션이 Merkle Tree에 포함되어 있는지 여부.\n",
    "        \"\"\"\n",
    "        current_hash = self._hash(transaction)\n",
    "        current_node = self.root\n",
    "\n",
    "        while current_node.left or current_node.right:\n",
    "            if current_hash in (current_node.left.value, current_node.right.value):\n",
    "                current_hash = self._hash(current_node.left.value + current_node.right.value)\n",
    "                if current_hash == self.root.value:\n",
    "                    return True\n",
    "            else:\n",
    "                return False\n",
    "        return current_hash == self.root.value"
   ]
  },
  {
   "cell_type": "code",
   "execution_count": null,
   "metadata": {
    "vscode": {
     "languageId": "plaintext"
    }
   },
   "outputs": [],
   "source": [
    "# Merkle Tree 실습 예제\n",
    "if __name__ == \"__main__\":\n",
    "    # 1. 트랜잭션 데이터 리스트\n",
    "    transactions = [\"tx1\", \"tx2\", \"tx3\", \"tx4\"]\n",
    "\n",
    "    # 2. Merkle Tree 생성\n",
    "    merkle_tree = MerkleTree(transactions)\n",
    "    print(\"Merkle Root:\", merkle_tree.get_root())\n",
    "\n",
    "    # 3. 트랜잭션 검증\n",
    "    valid_transaction = \"tx1\"\n",
    "    invalid_transaction = \"tx5\"\n",
    "    print(f\"\\nIs '{valid_transaction}' valid?\", merkle_tree.validate_transaction(valid_transaction))\n",
    "    print(f\"Is '{invalid_transaction}' valid?\", merkle_tree.validate_transaction(invalid_transaction))"
   ]
  }
 ],
 "metadata": {
  "language_info": {
   "name": "python"
  }
 },
 "nbformat": 4,
 "nbformat_minor": 2
}
