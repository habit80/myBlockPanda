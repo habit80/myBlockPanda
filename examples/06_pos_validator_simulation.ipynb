{
 "cells": [
  {
   "cell_type": "code",
   "execution_count": null,
   "metadata": {
    "vscode": {
     "languageId": "plaintext"
    }
   },
   "outputs": [],
   "source": [
    "import random"
   ]
  },
  {
   "cell_type": "code",
   "execution_count": null,
   "metadata": {
    "vscode": {
     "languageId": "plaintext"
    }
   },
   "outputs": [],
   "source": [
    "class Validator:\n",
    "    def __init__(self , name , stake):\n",
    "        \"\"\"\n",
    "        Validator 초기화\n",
    "        Args:\n",
    "            name (str): 검증자 이름\n",
    "            stake (int): 스테이킹 된 자산 (ETH 단위)\n",
    "        \"\"\"\n",
    "        self.name = name\n",
    "        self.stake = stake"
   ]
  },
  {
   "cell_type": "code",
   "execution_count": null,
   "metadata": {
    "vscode": {
     "languageId": "plaintext"
    }
   },
   "outputs": [],
   "source": [
    "def select_validator(validators):\n",
    "    \"\"\"\n",
    "    스테이킹 비율에 따라 검증자를 선택\n",
    "    Args:\n",
    "        validators (list): Validator 객체 리스트\n",
    "    Returns:\n",
    "        Validator: 선택된 검증자\n",
    "    \"\"\"\n",
    "    total_stake = sum(validator.stake for validator in validators)\n",
    "    pick = random.uniform(0, total_stake)\n",
    "    current = 0\n",
    "\n",
    "    for validator in validators:\n",
    "        current += validator.stake\n",
    "        if current > pick:\n",
    "            return validator"
   ]
  },
  {
   "cell_type": "code",
   "execution_count": null,
   "metadata": {
    "vscode": {
     "languageId": "plaintext"
    }
   },
   "outputs": [],
   "source": [
    "validators = [\n",
    "    Validator(\"Alice\", 100),  # Alice가 100 ETH 스테이킹\n",
    "    Validator(\"Bob\", 50),    # Bob이 50 ETH 스테이킹\n",
    "    Validator(\"Charlie\", 200) # Charlie가 200 ETH 스테이킹\n",
    "]"
   ]
  },
  {
   "cell_type": "code",
   "execution_count": null,
   "metadata": {
    "vscode": {
     "languageId": "plaintext"
    }
   },
   "outputs": [],
   "source": [
    "# 검증자 목록 출력\n",
    "print(\"Validators and their stakes:\")\n",
    "for validator in validators:\n",
    "    print(f\"- {validator.name}: {validator.stake} ETH\")"
   ]
  },
  {
   "cell_type": "code",
   "execution_count": null,
   "metadata": {
    "vscode": {
     "languageId": "plaintext"
    }
   },
   "outputs": [],
   "source": [
    "# PoS 시뮬레이션: 검증자 10회 선택\n",
    "print(\"\\nSimulating validator selection (10 rounds):\")\n",
    "selection_count = {validator.name: 0 for validator in validators}\n",
    "\n",
    "print(selection_count)"
   ]
  },
  {
   "cell_type": "code",
   "execution_count": null,
   "metadata": {
    "vscode": {
     "languageId": "plaintext"
    }
   },
   "outputs": [],
   "source": [
    "for _ in range(10):\n",
    "    selected_validator = select_validator(validators)\n",
    "    selection_count[selected_validator.name] += 1\n",
    "    print(f\"Selected Validator: {selected_validator.name}\")"
   ]
  },
  {
   "cell_type": "code",
   "execution_count": null,
   "metadata": {
    "vscode": {
     "languageId": "plaintext"
    }
   },
   "outputs": [],
   "source": [
    "# 결과 출력\n",
    "print(\"\\nSelection Summary:\")\n",
    "for name, count in selection_count.items():\n",
    "    print(f\"{name}: Selected {count} times\")"
   ]
  }
 ],
 "metadata": {
  "language_info": {
   "name": "python"
  }
 },
 "nbformat": 4,
 "nbformat_minor": 2
}
