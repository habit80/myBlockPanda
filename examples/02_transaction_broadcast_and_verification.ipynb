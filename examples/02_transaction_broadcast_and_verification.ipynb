{
 "cells": [
  {
   "cell_type": "code",
   "execution_count": null,
   "metadata": {
    "vscode": {
     "languageId": "plaintext"
    }
   },
   "outputs": [],
   "source": [
    "import hashlib"
   ]
  },
  {
   "cell_type": "code",
   "execution_count": null,
   "metadata": {
    "vscode": {
     "languageId": "plaintext"
    }
   },
   "outputs": [],
   "source": [
    "# Simulate a network of nodes\n",
    "nodes = [\"Node1\" , \"Node2\" , \"Node3\"]"
   ]
  },
  {
   "cell_type": "code",
   "execution_count": null,
   "metadata": {
    "vscode": {
     "languageId": "plaintext"
    }
   },
   "outputs": [],
   "source": [
    "# Create a transaction\n",
    "transaction = {\n",
    "    \"sender\" : \"Alice\",\n",
    "    \"receiver\" : \"Bob\",\n",
    "    \"amount\" : 10,\n",
    "    \"timestamp\" : \"2024-12-06T12:00:00Z\"\n",
    "}"
   ]
  },
  {
   "cell_type": "code",
   "execution_count": null,
   "metadata": {
    "vscode": {
     "languageId": "plaintext"
    }
   },
   "outputs": [],
   "source": [
    "# Hash the transaction\n",
    "transaction_data = str(transaction).encode()\n",
    "transaction_hash = hashlib.sha256(transaction_data).hexdigest()"
   ]
  },
  {
   "cell_type": "code",
   "execution_count": null,
   "metadata": {
    "vscode": {
     "languageId": "plaintext"
    }
   },
   "outputs": [],
   "source": [
    "# Broadcast the transaction to all nodes\n",
    "print(\"Broadcasting transaction to nodes ...\")\n",
    "for node in nodes:\n",
    "    print(f\"{node} received transaction : {transaction_hash}\")"
   ]
  },
  {
   "cell_type": "code",
   "execution_count": null,
   "metadata": {
    "vscode": {
     "languageId": "plaintext"
    }
   },
   "outputs": [],
   "source": [
    "# Nodes validate the transaction\n",
    "for node in nodes:\n",
    "    if hashlib.sha256(transaction_data).hexdigest() == transaction_hash:\n",
    "        print(f\"{node} validated the transaction successfully.\")\n",
    "    else:\n",
    "        print(f\"{node} found the transaction invalid.\")"
   ]
  }
 ],
 "metadata": {
  "language_info": {
   "name": "python"
  }
 },
 "nbformat": 4,
 "nbformat_minor": 2
}
