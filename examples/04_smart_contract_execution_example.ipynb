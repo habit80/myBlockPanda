{
 "cells": [
  {
   "cell_type": "code",
   "execution_count": null,
   "metadata": {
    "vscode": {
     "languageId": "plaintext"
    }
   },
   "outputs": [],
   "source": [
    "class SimpleSmartContract:\n",
    "    def __init__(self):\n",
    "        \"\"\"\n",
    "        스마트 컨트랙트 초기화\n",
    "        - balances : 각 사용자 잔액을 저장하는 딕셔너리\n",
    "        \"\"\"\n",
    "        self.balances = {}\n",
    "\n",
    "    def deposit(self , user , amount):\n",
    "        \"\"\"\n",
    "        사용자가 잔액을 예치함\n",
    "        Args:\n",
    "            user (str) : 사용자 이름\n",
    "            amount (int) : 예치 금액\n",
    "        \"\"\"\n",
    "        if user not in self.balances:\n",
    "            self.balances[user] = 0\n",
    "        self.balances[user] += amount\n",
    "        print(f\"[Deposit] {user} 예치 : {amount}. 현재 잔액 : {self.balances[user]}\")\n",
    "        return True\n",
    "    \n",
    "    def withdraw(self , user , amount):\n",
    "        \"\"\"\n",
    "        사용자가 잔액을 출금함\n",
    "        Args:\n",
    "            user (str): 사용자 이름\n",
    "            amount (int): 출금 금액\n",
    "        \"\"\"\n",
    "        if user not in self.balances or self.balances[user] < amount:\n",
    "            print(f\"[Withdraw] {user}: 잔액 부족. 출금 실패.\")\n",
    "        self.balances[user] -= amount\n",
    "        print(f\"[Withdraw] {user} 출금 : {amount}. 현재 잔액 : {self.balances[user]}\")\n",
    "        return True\n",
    "\n",
    "    def transfer(self, sender , recipient , amount):\n",
    "        \"\"\"\n",
    "        한 사용자가 다른 사용자에게 잔액을 전송함\n",
    "        Args:\n",
    "            sender (str) : 송신자 이름\n",
    "            recipient (str) : 수신자 이름.\n",
    "            amount (int) : 전송 금액\n",
    "        \"\"\"\n",
    "        try:\n",
    "            # 입력 검증\n",
    "            if sender not in self.balances:\n",
    "                raise ValueError(f\"Sender '{sender}' 존재하지 않음\")\n",
    "\n",
    "            if recipient not in self.balances:\n",
    "                raise ValueError(f\"Recipient '{recipient}' 존재하지 않음\")\n",
    "\n",
    "            if self.balances[sender] < amount:\n",
    "                raise ValueError(f\"[Transfer] {sender} -> {recipient}: 잔액 부족. 전송 실패\")\n",
    "\n",
    "        # 송신자 잔액 감소\n",
    "        self.balances[sender] -= amount\n",
    "\n",
    "        # 수신자 잔액 증가\n",
    "        if recipient not in self.balances:\n",
    "            self.balances[receiver] = 0\n",
    "        self.balances[recipient] += amount\n",
    "\n",
    "        print(f\"[Transfer] {sender} -> {recipient}: {amount}.\")\n",
    "        print(f\"    {sender} 잔액: {self.balances[sender]}\")\n",
    "        print(f\"    {recipient} 잔액: {self.balances[recipient]}\")\n",
    "        return True"
   ]
  },
  {
   "cell_type": "code",
   "execution_count": null,
   "metadata": {
    "vscode": {
     "languageId": "plaintext"
    }
   },
   "outputs": [],
   "source": [
    "# 스마트 컨트랙트 실행 예제\n",
    "\n",
    "# 1. 스마트 컨트랙트 인스턴스 생성\n",
    "contract = SimpleSmartContract()"
   ]
  },
  {
   "cell_type": "code",
   "execution_count": null,
   "metadata": {
    "vscode": {
     "languageId": "plaintext"
    }
   },
   "outputs": [],
   "source": [
    "# 2. 사용자가 잔액을 예치함\n",
    "contract.deposit(\"Alice\" , 100)\n",
    "contract.deposit(\"Bob\" , 50)"
   ]
  },
  {
   "cell_type": "code",
   "execution_count": null,
   "metadata": {
    "vscode": {
     "languageId": "plaintext"
    }
   },
   "outputs": [],
   "source": [
    "# 3. 출금 시도\n",
    "contract.withdraw(\"Alice\" , 30)\n",
    "contract.withdraw(\"Bob\" , 60)   # 잔액부족"
   ]
  },
  {
   "cell_type": "code",
   "execution_count": null,
   "metadata": {
    "vscode": {
     "languageId": "plaintext"
    }
   },
   "outputs": [],
   "source": [
    "# 4. 사용자 간 전송\n",
    "contract.transfer(\"Alice\" , \"Bob\" , 50)\n",
    "contract.transfer(\"Bob\" , \"Charlie\" , 20)"
   ]
  }
 ],
 "metadata": {
  "language_info": {
   "name": "python"
  }
 },
 "nbformat": 4,
 "nbformat_minor": 2
}
